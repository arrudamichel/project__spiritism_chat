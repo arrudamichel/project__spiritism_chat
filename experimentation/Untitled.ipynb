{
 "cells": [
  {
   "cell_type": "code",
   "execution_count": 2,
   "id": "ac06c173-a876-4792-88fb-dac405e9dd66",
   "metadata": {},
   "outputs": [
    {
     "name": "stdout",
     "output_type": "stream",
     "text": [
      "\n",
      "+55 92 8594-9213\n",
      "‎bateria prestes a acabar\n",
      "+55 94 9234-7842\n",
      "+55 99 8465-9628\n",
      "+64 27 314 4525\n",
      "+55 98 9175-8802\n",
      "\n",
      "+55 98 8229-6689\n",
      "\n",
      "\n",
      "\n",
      "+55 93 9101-1990\n",
      "\n",
      "+55 99 9126-7350\n",
      "São tantas bênçãos recebidas, que eu não ouso reclamar de nada!\n",
      "\n",
      "\n",
      "\n",
      "+55 92 9154-5722\n",
      "\n",
      "\n",
      "\n",
      "\n",
      "\n",
      "+55 92 8445-1919\n",
      "Honesty of purpose.️\n",
      "\n",
      "\n",
      "+55 92 9137-3949\n",
      "\n",
      "+55 99 9180-0833\n",
      "\n",
      "\n",
      "\n",
      "+55 99 8110-1233\n",
      "Oxe\n",
      "+55 98 8802-4451\n",
      "Disponível\n",
      "+55 92 8490-8263\n",
      "\n",
      "\n",
      "+55 98 8434-9063\n",
      "HUGO\n",
      "\n",
      "\n",
      "+55 98 9218-4710\n",
      "\n",
      "\n",
      "\n",
      "+55 98 9228-3736\n",
      "Available\n",
      "+55 92 9215-5813\n",
      "\n",
      "\n",
      "\n"
     ]
    }
   ],
   "source": [
    "from bs4 import BeautifulSoup\n",
    "\n",
    "# Carregar o arquivo HTML\n",
    "with open('../pobre.html', 'r', encoding='utf-8') as file:\n",
    "    soup = BeautifulSoup(file, 'html.parser')\n",
    "\n",
    "# Encontrar todos os elementos com a classe \"_ao3e\"\n",
    "phone_elements = soup.find_all(class_='_ao3e')\n",
    "\n",
    "# Extrair e imprimir os números de telefone\n",
    "phone_numbers = [element.get_text(strip=True) for element in phone_elements]\n",
    "\n",
    "# Exibir os números de telefone\n",
    "for phone in phone_numbers:\n",
    "    print(phone)\n"
   ]
  }
 ],
 "metadata": {
  "kernelspec": {
   "display_name": "Python 3 (ipykernel)",
   "language": "python",
   "name": "python3"
  },
  "language_info": {
   "codemirror_mode": {
    "name": "ipython",
    "version": 3
   },
   "file_extension": ".py",
   "mimetype": "text/x-python",
   "name": "python",
   "nbconvert_exporter": "python",
   "pygments_lexer": "ipython3",
   "version": "3.10.14"
  }
 },
 "nbformat": 4,
 "nbformat_minor": 5
}
