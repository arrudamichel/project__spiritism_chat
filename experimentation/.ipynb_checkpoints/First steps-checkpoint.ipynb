{
 "cells": [
  {
   "cell_type": "markdown",
   "id": "3793955f-bc86-4902-b992-d7e1f5a381d1",
   "metadata": {},
   "source": [
    "## LLM experiments"
   ]
  },
  {
   "cell_type": "code",
   "execution_count": 1,
   "id": "5f0b80b8-f674-47ba-87eb-14125b4d5fc9",
   "metadata": {},
   "outputs": [
    {
     "name": "stderr",
     "output_type": "stream",
     "text": [
      "USER_AGENT environment variable not set, consider setting it to identify your requests.\n"
     ]
    }
   ],
   "source": [
    "from langchain_community.document_loaders import WebBaseLoader\n",
    "import bs4\n",
    "import ebooklib\n",
    "from bs4 import BeautifulSoup\n",
    "import re\n",
    "from ebooklib import epub\n",
    "\n",
    "\n",
    "import langchain\n",
    "from langchain import hub\n",
    "from langchain_community.document_loaders import WebBaseLoader\n",
    "from langchain_core.output_parsers import StrOutputParser\n",
    "from langchain_core.runnables import RunnablePassthrough\n",
    "from langchain_text_splitters import RecursiveCharacterTextSplitter\n",
    "from langchain_community.vectorstores import Chroma\n",
    "\n",
    "\n",
    "from langchain_community.llms import Ollama\n",
    "from langchain.embeddings.huggingface import HuggingFaceEmbeddings\n",
    "\n",
    "from langchain.schema import Document\n"
   ]
  },
  {
   "cell_type": "code",
   "execution_count": 2,
   "id": "3944bfa7-51f7-4d70-bba0-77f79617e342",
   "metadata": {},
   "outputs": [],
   "source": [
    "# import pypandoc\n",
    "# pypandoc.download_pandoc()"
   ]
  },
  {
   "cell_type": "markdown",
   "id": "3afb93f6-7988-4b84-9f37-a753b8703b52",
   "metadata": {},
   "source": [
    "### Load LLM Model"
   ]
  },
  {
   "cell_type": "code",
   "execution_count": 3,
   "id": "4440dd69-849a-4c19-bdfc-3653138f113c",
   "metadata": {},
   "outputs": [],
   "source": [
    "llm = Ollama(model=\"llama3.1\")"
   ]
  },
  {
   "cell_type": "markdown",
   "id": "3755d5cc-13e5-4ed3-8e17-0bd3c01b4f45",
   "metadata": {},
   "source": [
    "### Epub loader"
   ]
  },
  {
   "cell_type": "code",
   "execution_count": 4,
   "id": "79eb6b4e-e62b-4776-b28d-67ef08bb920d",
   "metadata": {},
   "outputs": [
    {
     "data": {
      "text/plain": [
       "['allan-kardec-a-genese.epub',\n",
       " 'allan-kardec-o-livro-dos-mediuns.epub',\n",
       " 'allan-kardec-o-evangelho-segundo-o-espiritismo.epub',\n",
       " 'allan-kardec-o-ceu-e-o-inferno.epub',\n",
       " 'allan-kardec-o-que-e-espiritismo.epub',\n",
       " 'allan-kardec-o-livro-dos-espiritos.epub']"
      ]
     },
     "execution_count": 4,
     "metadata": {},
     "output_type": "execute_result"
    }
   ],
   "source": [
    "import os\n",
    "mypath = '../data'\n",
    "\n",
    "epub_files = [file for file in os.listdir(mypath) if file.endswith('.epub')]\n",
    "epub_files"
   ]
  },
  {
   "cell_type": "code",
   "execution_count": 5,
   "id": "e963aeb2-658e-4c41-839c-72d7ec8807a1",
   "metadata": {},
   "outputs": [
    {
     "name": "stderr",
     "output_type": "stream",
     "text": [
      "[nltk_data] Downloading package punkt_tab to\n",
      "[nltk_data]     /Users/michelarruda/nltk_data...\n",
      "[nltk_data]   Package punkt_tab is already up-to-date!\n",
      "[nltk_data] Downloading package averaged_perceptron_tagger_eng to\n",
      "[nltk_data]     /Users/michelarruda/nltk_data...\n",
      "[nltk_data]   Package averaged_perceptron_tagger_eng is already up-to-\n",
      "[nltk_data]       date!\n"
     ]
    },
    {
     "data": {
      "text/plain": [
       "True"
      ]
     },
     "execution_count": 5,
     "metadata": {},
     "output_type": "execute_result"
    }
   ],
   "source": [
    "import nltk\n",
    "nltk.download('punkt_tab')\n",
    "nltk.download('averaged_perceptron_tagger_eng')"
   ]
  },
  {
   "cell_type": "code",
   "execution_count": 6,
   "id": "c6a4ceb1-005b-407e-8eab-4133788d07bc",
   "metadata": {},
   "outputs": [
    {
     "name": "stdout",
     "output_type": "stream",
     "text": [
      "allan-kardec-a-genese.epub\n"
     ]
    },
    {
     "name": "stderr",
     "output_type": "stream",
     "text": [
      "[ERROR] Found /Users/michelarruda/Applications/pandoc/pandoc, but not using it because of an error:\n",
      "Traceback (most recent call last):\n",
      "  File \"/Users/michelarruda/miniconda3/envs/spiritism-chat/lib/python3.10/site-packages/pypandoc/__init__.py\", line 750, in _ensure_pandoc_path\n",
      "    version_string = _get_pandoc_version(path)\n",
      "  File \"/Users/michelarruda/miniconda3/envs/spiritism-chat/lib/python3.10/site-packages/pypandoc/__init__.py\", line 608, in _get_pandoc_version\n",
      "    p = subprocess.Popen(\n",
      "  File \"/Users/michelarruda/miniconda3/envs/spiritism-chat/lib/python3.10/subprocess.py\", line 971, in __init__\n",
      "    self._execute_child(args, executable, preexec_fn, close_fds,\n",
      "  File \"/Users/michelarruda/miniconda3/envs/spiritism-chat/lib/python3.10/subprocess.py\", line 1847, in _execute_child\n",
      "    raise child_exception_type(errno_num, err_msg, err_filename)\n",
      "OSError: [Errno 86] Bad CPU type in executable: '/Users/michelarruda/Applications/pandoc/pandoc'\n"
     ]
    },
    {
     "name": "stdout",
     "output_type": "stream",
     "text": [
      "allan-kardec-o-livro-dos-mediuns.epub\n",
      "allan-kardec-o-evangelho-segundo-o-espiritismo.epub\n",
      "allan-kardec-o-ceu-e-o-inferno.epub\n",
      "allan-kardec-o-que-e-espiritismo.epub\n",
      "allan-kardec-o-livro-dos-espiritos.epub\n"
     ]
    }
   ],
   "source": [
    "from langchain_community.document_loaders import UnstructuredEPubLoader\n",
    "\n",
    "data = []\n",
    "for file_name in epub_files:\n",
    "    print(file_name)\n",
    "    loader = UnstructuredEPubLoader(\"../data/\" + file_name)\n",
    "    data.append(loader.load())"
   ]
  },
  {
   "cell_type": "code",
   "execution_count": 7,
   "id": "3f58b60c-06a7-40ec-b90c-dd1574aa39e2",
   "metadata": {},
   "outputs": [],
   "source": [
    "list_concat = [item for sublist in data for item in sublist]\n"
   ]
  },
  {
   "cell_type": "markdown",
   "id": "046a7e65-c451-44c3-a204-f8f1be13153c",
   "metadata": {},
   "source": [
    "### Split documents"
   ]
  },
  {
   "cell_type": "code",
   "execution_count": 8,
   "id": "4dfa4aea-e04a-4884-8c89-9e2e391e086d",
   "metadata": {},
   "outputs": [],
   "source": [
    "text_splitter = RecursiveCharacterTextSplitter(chunk_size=1000, chunk_overlap=200)\n",
    "splits = text_splitter.split_documents(list_concat)"
   ]
  },
  {
   "cell_type": "code",
   "execution_count": 9,
   "id": "cf76481d-dea3-447b-99f8-c16138c376ba",
   "metadata": {},
   "outputs": [
    {
     "name": "stderr",
     "output_type": "stream",
     "text": [
      "/var/folders/rb/g2rznbp50d56w_26l6lfc72c0000gn/T/ipykernel_37285/3255563012.py:4: LangChainDeprecationWarning: The class `HuggingFaceEmbeddings` was deprecated in LangChain 0.2.2 and will be removed in 1.0. An updated version of the class exists in the :class:`~langchain-huggingface package and should be used instead. To use it run `pip install -U :class:`~langchain-huggingface` and import as `from :class:`~langchain_huggingface import HuggingFaceEmbeddings``.\n",
      "  embeddings = HuggingFaceEmbeddings(\n",
      "/Users/michelarruda/miniconda3/envs/spiritism-chat/lib/python3.10/site-packages/sentence_transformers/cross_encoder/CrossEncoder.py:13: TqdmWarning: IProgress not found. Please update jupyter and ipywidgets. See https://ipywidgets.readthedocs.io/en/stable/user_install.html\n",
      "  from tqdm.autonotebook import tqdm, trange\n",
      "/Users/michelarruda/miniconda3/envs/spiritism-chat/lib/python3.10/site-packages/transformers/tokenization_utils_base.py:1601: FutureWarning: `clean_up_tokenization_spaces` was not set. It will be set to `True` by default. This behavior will be depracted in transformers v4.45, and will be then set to `False` by default. For more details check this issue: https://github.com/huggingface/transformers/issues/31884\n",
      "  warnings.warn(\n",
      "⚠️ It looks like you upgraded from a version below 0.6 and could benefit from vacuuming your database. Run chromadb utils vacuum --help for more information.\n",
      "/var/folders/rb/g2rznbp50d56w_26l6lfc72c0000gn/T/ipykernel_37285/3255563012.py:12: LangChainDeprecationWarning: Since Chroma 0.4.x the manual persistence method is no longer supported as docs are automatically persisted.\n",
      "  vectorstore.persist()\n"
     ]
    }
   ],
   "source": [
    "from langchain.prompts import PromptTemplate\n",
    "\n",
    "# vectors\n",
    "embeddings = HuggingFaceEmbeddings(\n",
    "    model_name=\"sentence-transformers/all-MiniLM-l6-v2\",     # Provide the pre-trained model's path\n",
    ")\n",
    "\n",
    "persist_directory = \"../vectodb\"\n",
    "vectorstore = Chroma.from_documents(documents=splits, embedding=embeddings,\n",
    "                                 persist_directory=persist_directory)\n",
    "\n",
    "vectorstore.persist()\n",
    "\n",
    "# Retrieve and generate using the relevant snippets of the blog.\n",
    "retriever = vectorstore.as_retriever()\n",
    "#prompt = hub.pull(\"rlm/rag-prompt\")\n",
    "\n",
    "template = \"\"\"\n",
    "You must answer just using the given context. Always answer in Portuguese\n",
    "Context: {context}\n",
    "\n",
    "Question: {question}\n",
    "Answer:\n",
    "\"\"\"\n",
    "\n",
    "prompt = PromptTemplate(template=template, input_variables=[\"context\", \"question\"])\n",
    "\n",
    "rag_chain = (\n",
    "    {\"context\": retriever, \"question\": RunnablePassthrough()}\n",
    "    | prompt\n",
    "    | llm\n",
    "    | StrOutputParser()\n",
    ")"
   ]
  },
  {
   "cell_type": "code",
   "execution_count": 10,
   "id": "503e0e69-2773-428c-ac3a-62d5a8f53ce9",
   "metadata": {},
   "outputs": [
    {
     "data": {
      "text/plain": [
       "{\n",
       "  context: VectorStoreRetriever(tags=['Chroma', 'HuggingFaceEmbeddings'], vectorstore=<langchain_community.vectorstores.chroma.Chroma object at 0x13fd88cd0>, search_kwargs={}),\n",
       "  question: RunnablePassthrough()\n",
       "}\n",
       "| PromptTemplate(input_variables=['context', 'question'], input_types={}, partial_variables={}, template='\\nYou must answer just using the given context. Always answer in Portuguese\\nContext: {context}\\n\\nQuestion: {question}\\nAnswer:\\n')\n",
       "| Ollama(model='llama3.1')\n",
       "| StrOutputParser()"
      ]
     },
     "execution_count": 10,
     "metadata": {},
     "output_type": "execute_result"
    }
   ],
   "source": [
    "rag_chain"
   ]
  },
  {
   "cell_type": "code",
   "execution_count": 11,
   "id": "0efc2d31-fafc-4c02-8cd6-63ad589df5d8",
   "metadata": {},
   "outputs": [
    {
     "data": {
      "text/plain": [
       "'A doutrina espírita ou o Espiritismo tem por princípio as relações do mundo material com os Espíritos ou seres do mundo invisível.'"
      ]
     },
     "execution_count": 11,
     "metadata": {},
     "output_type": "execute_result"
    }
   ],
   "source": [
    "rag_chain.invoke(\"O que é o espiritismo?\")"
   ]
  },
  {
   "cell_type": "code",
   "execution_count": 12,
   "id": "a5341bf3-774d-44cb-852f-e0e71d446c18",
   "metadata": {},
   "outputs": [
    {
     "data": {
      "text/plain": [
       "'Infelizmente, não há menção ao ano em que o espiritismo foi criado no contexto fornecido. O texto descreve a natureza do Espiritismo e sua importância para entender as relações entre os mundos espiritual e corpóreo, mas não fornece informação sobre sua data de criação.'"
      ]
     },
     "execution_count": 12,
     "metadata": {},
     "output_type": "execute_result"
    }
   ],
   "source": [
    "rag_chain.invoke(\"Que ano foi criado o espiritismo?\")"
   ]
  },
  {
   "cell_type": "code",
   "execution_count": 13,
   "id": "2bf6f6d1-be9b-4a7d-8fcc-baa0d7699600",
   "metadata": {},
   "outputs": [
    {
     "data": {
      "text/plain": [
       "'Ninguém jamais imaginou que as almas, depois da morte, se encontrariam em tais ou quais condições. Elas são as mesmas almas partidas da Terra que nos vêm hoje iniciar nos mistérios da vida futura, descrever-nos sua situação feliz ou desgraçada, as impressões, a transformação pela morte do corpo, completando, em uma palavra, os ensinamentos do Cristo sobre este ponto.'"
      ]
     },
     "execution_count": 13,
     "metadata": {},
     "output_type": "execute_result"
    }
   ],
   "source": [
    "rag_chain.invoke(\"Qual a situação da alma imediatamente depois da morte do corpo?\")"
   ]
  },
  {
   "cell_type": "code",
   "execution_count": 14,
   "id": "4e63667c-d568-403a-b122-67814e15eb6d",
   "metadata": {},
   "outputs": [
    {
     "data": {
      "text/plain": [
       "'Ninguém jamais imaginou que as almas, depois da morte, se encontrariam em tais ou quais condições. Elas são as mesmas almas partidas da Terra, que nos vêm hoje iniciar nos mistérios da vida futura, descrever-nos sua situação feliz ou desgraçada, as impressões e a transformação pela morte do corpo.'"
      ]
     },
     "execution_count": 14,
     "metadata": {},
     "output_type": "execute_result"
    }
   ],
   "source": [
    "rag_chain.invoke(\"Qual a situação da alma imediatamente depois da morte do corpo?\")"
   ]
  },
  {
   "cell_type": "code",
   "execution_count": 15,
   "id": "5ff42a1b-0e92-4626-8d3f-ddedbfef473a",
   "metadata": {},
   "outputs": [
    {
     "data": {
      "text/plain": [
       "'Desculpe, mas não há nenhuma menção a Vasco da Gama no contexto fornecido. As informações dadas parecem ser extratos de um livro sobre Allan Kardec e sua obra \"O Céu e o Inferno\".'"
      ]
     },
     "execution_count": 15,
     "metadata": {},
     "output_type": "execute_result"
    }
   ],
   "source": [
    "rag_chain.invoke(\"O que é Vasco da Gama?\")"
   ]
  },
  {
   "cell_type": "code",
   "execution_count": 16,
   "id": "5493b228-90a2-4bdb-8d04-5903818343a2",
   "metadata": {},
   "outputs": [
    {
     "data": {
      "text/plain": [
       "'A situação das almas imediatamente após a morte é feliz ou desgraçada, dependendo das impressões e transformações ocorridas durante a vida. (referência: Allan Kardec - O Céu e o Inferno)'"
      ]
     },
     "execution_count": 16,
     "metadata": {},
     "output_type": "execute_result"
    }
   ],
   "source": [
    "rag_chain.invoke(\"Qual a situação da alma imediatamente depois da morte do corpo? Cite a referencia\")"
   ]
  },
  {
   "cell_type": "code",
   "execution_count": 17,
   "id": "309352a6-36af-487f-aac7-3dee55290d5d",
   "metadata": {},
   "outputs": [
    {
     "data": {
      "text/plain": [
       "'Ninguém jamais imaginou que as almas, depois da morte, se encontrariam em tais ou quais condições; são elas, essas mesmas almas, partidas da Terra, que nos vêm hoje iniciar nos mistérios da vida futura, descrever-nos sua situação feliz ou desgraçada, as impressões, a transformação pela morte do corpo.\\n\\nFonte: Allan Kardec - O Céu e o Inferno.'"
      ]
     },
     "execution_count": 17,
     "metadata": {},
     "output_type": "execute_result"
    }
   ],
   "source": [
    "rag_chain.invoke(\"Qual a situação da alma imediatamente depois da morte do corpo? Cite qual livro encontrar essa informação\")"
   ]
  },
  {
   "cell_type": "code",
   "execution_count": 18,
   "id": "4ee881d3-7093-4fbf-8168-6e3070bf6aca",
   "metadata": {},
   "outputs": [
    {
     "data": {
      "text/plain": [
       "'Não há informações específicas sobre a situação do espírito imediatamente após o desencarne no contexto fornecido. O texto parece discutir condições para sessões espirituais, mas não menciona diretamente o que acontece com os espíritos após a morte ou desencarne.'"
      ]
     },
     "execution_count": 18,
     "metadata": {},
     "output_type": "execute_result"
    }
   ],
   "source": [
    "rag_chain.invoke(\"Qual a situação do espírito imediatamente depois do desencarne? Cite qual livro encontrar essa informação\")"
   ]
  },
  {
   "cell_type": "code",
   "execution_count": 19,
   "id": "e34e23d5-5841-4e2d-8816-0f854928803b",
   "metadata": {},
   "outputs": [
    {
     "data": {
      "text/plain": [
       "'Depois da morte, o homem espiritual subsiste e a lembrança do homem corpóreo torna-se cada vez mais longínqua. Ele não fica vagando pela Terra, mas sim continuando a existir como espírito.\\n\\nFonte: \"A Gênese\" de Allan Kardec.'"
      ]
     },
     "execution_count": 19,
     "metadata": {},
     "output_type": "execute_result"
    }
   ],
   "source": [
    "rag_chain.invoke(\"Qual a situação da pessoa imediatamente depois da morte do corpo? Para onde vai? Fica vagando pela terra? Cite qual livro encontrar essa informação\")"
   ]
  },
  {
   "cell_type": "markdown",
   "id": "ada203de-0e50-4bd3-afdf-396cad0edcac",
   "metadata": {},
   "source": [
    "### Add history"
   ]
  },
  {
   "cell_type": "code",
   "execution_count": 20,
   "id": "5f160f2c-b229-4dcc-bece-6bdec06af8b0",
   "metadata": {},
   "outputs": [],
   "source": [
    "from langchain.chains import create_history_aware_retriever, create_retrieval_chain\n",
    "from langchain.chains.combine_documents import create_stuff_documents_chain\n",
    "from langchain_chroma import Chroma\n",
    "from langchain_community.chat_message_histories import ChatMessageHistory\n",
    "from langchain_community.document_loaders import WebBaseLoader\n",
    "from langchain_core.chat_history import BaseChatMessageHistory\n",
    "from langchain_core.prompts import ChatPromptTemplate, MessagesPlaceholder\n",
    "from langchain_core.runnables.history import RunnableWithMessageHistory\n",
    "from langchain_text_splitters import RecursiveCharacterTextSplitter\n",
    "\n",
    "llm = Ollama(model=\"llama3.1\")\n",
    "\n",
    "# ### Construct retriever ###\n",
    "# loader = WebBaseLoader(\n",
    "#     web_paths=(\"https://lilianweng.github.io/posts/2023-06-23-agent/\",),\n",
    "#     bs_kwargs=dict(\n",
    "#         parse_only=bs4.SoupStrainer(\n",
    "#             class_=(\"post-content\", \"post-title\", \"post-header\")\n",
    "#         )\n",
    "#     ),\n",
    "# )\n",
    "# docs = loader.load()\n",
    "\n",
    "# text_splitter = RecursiveCharacterTextSplitter(chunk_size=1000, chunk_overlap=200)\n",
    "# splits = text_splitter.split_documents(docs)\n",
    "# vectorstore = Chroma.from_documents(documents=splits, embedding=OpenAIEmbeddings())\n",
    "# retriever = vectorstore.as_retriever()\n",
    "\n",
    "\n",
    "### Contextualize question ###\n",
    "contextualize_q_system_prompt = \"\"\"Given a chat history and the latest user question \\\n",
    "which might reference context in the chat history, formulate a standalone question \\\n",
    "which can be understood without the chat history. Do NOT answer the question, \\\n",
    "just reformulate it if needed and otherwise return it as is.\"\"\"\n",
    "contextualize_q_prompt = ChatPromptTemplate.from_messages(\n",
    "    [\n",
    "        (\"system\", contextualize_q_system_prompt),\n",
    "        MessagesPlaceholder(\"chat_history\"),\n",
    "        (\"human\", \"{input}\"),\n",
    "    ]\n",
    ")\n",
    "history_aware_retriever = create_history_aware_retriever(\n",
    "    llm, retriever, contextualize_q_prompt\n",
    ")\n",
    "\n",
    "\n",
    "### Answer question ###\n",
    "qa_system_prompt = \"\"\"You are an assistant for question-answering tasks. \\\n",
    "You must answer just using the given context. \\\n",
    "Use the following pieces of retrieved context to answer the question. \\\n",
    "Always answer in Portuguese. \\\n",
    "If you don't know the answer, just say that you don't know. \\\n",
    "Use five sentences maximum and keep the answer concise.\\\n",
    "\n",
    "{context}\"\"\"\n",
    "qa_prompt = ChatPromptTemplate.from_messages(\n",
    "    [\n",
    "        (\"system\", qa_system_prompt),\n",
    "        MessagesPlaceholder(\"chat_history\"),\n",
    "        (\"human\", \"{input}\"),\n",
    "    ]\n",
    ")\n",
    "question_answer_chain = create_stuff_documents_chain(llm, qa_prompt)\n",
    "\n",
    "rag_chain = create_retrieval_chain(history_aware_retriever, question_answer_chain)\n",
    "\n",
    "\n",
    "### Statefully manage chat history ###\n",
    "store = {}\n",
    "\n",
    "\n",
    "def get_session_history(session_id: str) -> BaseChatMessageHistory:\n",
    "    if session_id not in store:\n",
    "        store[session_id] = ChatMessageHistory()\n",
    "    return store[session_id]\n",
    "\n",
    "\n",
    "conversational_rag_chain = RunnableWithMessageHistory(\n",
    "    rag_chain,\n",
    "    get_session_history,\n",
    "    input_messages_key=\"input\",\n",
    "    history_messages_key=\"chat_history\",\n",
    "    output_messages_key=\"answer\",\n",
    ")"
   ]
  },
  {
   "cell_type": "markdown",
   "id": "f285f10d-4cfe-461b-baca-e90bc2f8bae5",
   "metadata": {},
   "source": [
    "#### Session test 1"
   ]
  },
  {
   "cell_type": "code",
   "execution_count": 21,
   "id": "8680ce31-7a64-4aa4-afcc-77e6b9d83964",
   "metadata": {},
   "outputs": [
    {
     "data": {
      "text/plain": [
       "'O espiritismo tem por princípio as relações do mundo material com os Espíritos ou seres do mundo invisível. É a doutrina espírita que define essas relações. Os adeptos desse ensino são chamados de espíritas ou espiritistas. O termo espiritualismo é utilizado para deixar claro sua acepção própria. Não há nada mais a acrescentar sobre o assunto.'"
      ]
     },
     "execution_count": 21,
     "metadata": {},
     "output_type": "execute_result"
    }
   ],
   "source": [
    "conversational_rag_chain.invoke(\n",
    "    {\"input\": \"O que é o espiritismo?\"},\n",
    "    config={\n",
    "        \"configurable\": {\"session_id\": \"abc123\"}\n",
    "    },  # constructs a key \"abc123\" in `store`.\n",
    ")[\"answer\"]"
   ]
  },
  {
   "cell_type": "code",
   "execution_count": 22,
   "id": "ffd4e552-312b-4143-b206-4d060ffd1aff",
   "metadata": {},
   "outputs": [
    {
     "data": {
      "text/plain": [
       "'Desculpe, mas não consegui identificar nenhuma menção ao tema de previsões ou predições no contexto fornecido. Posso ajudar com algo else?'"
      ]
     },
     "execution_count": 22,
     "metadata": {},
     "output_type": "execute_result"
    }
   ],
   "source": [
    "conversational_rag_chain.invoke(\n",
    "    {\"input\": \"Qual tipo de predição? Cite um exemplo\"},\n",
    "    config={\"configurable\": {\"session_id\": \"abc123\"}},\n",
    ")[\"answer\"]"
   ]
  },
  {
   "cell_type": "code",
   "execution_count": 23,
   "id": "9785458f-f346-4c36-abfb-633124a3480b",
   "metadata": {},
   "outputs": [
    {
     "data": {
      "text/plain": [
       "'Peço desculpas, mas não tenho informações suficientes para responder essa pergunta com base nos contextos fornecidos. Apenas mencionei o espiritismo como uma doutrina que estabelece relações entre o mundo material e os Espíritos, sem fazer menção a predições ou previsões específicas.'"
      ]
     },
     "execution_count": 23,
     "metadata": {},
     "output_type": "execute_result"
    }
   ],
   "source": [
    "conversational_rag_chain.invoke(\n",
    "    {\"input\": \"Você falou sobre predições feitas pelos espíritos, quais seriam essas?\"},\n",
    "    config={\"configurable\": {\"session_id\": \"abc123\"}},\n",
    ")[\"answer\"]"
   ]
  },
  {
   "cell_type": "code",
   "execution_count": 24,
   "id": "49bf2fbb-5072-45ad-8783-34916f8273c4",
   "metadata": {},
   "outputs": [
    {
     "data": {
      "text/plain": [
       "'Desculpe, mas não consegui encontrar informações sobre \"evocação antecipada\" e \"responder por antecipação\" nos contextos fornecidos. No entanto, posso dizer que a evocação de um Espírito vivente pode ter inconvenientes, como aumentar os sofrimentos de uma pessoa doente ou afetar negativamente as faculdades intelectuais de alguém.'"
      ]
     },
     "execution_count": 24,
     "metadata": {},
     "output_type": "execute_result"
    }
   ],
   "source": [
    "conversational_rag_chain.invoke(\n",
    "    {\"input\": 'Então, explique sobre \"evocação antecipada\" e \"responder por antecipação\"'},\n",
    "    config={\"configurable\": {\"session_id\": \"abc123\"}},\n",
    ")[\"answer\"]"
   ]
  },
  {
   "cell_type": "code",
   "execution_count": 25,
   "id": "1d766e48-faa4-4ffe-9664-425c28766903",
   "metadata": {},
   "outputs": [
    {
     "data": {
      "text/plain": [
       "'Não, isso não é exatamente o que estou querendo dizer. Estou me referindo a que tipos de previsões os Espíritos fazem e que tipo de predição está sendo mencionada no contexto fornecido?'"
      ]
     },
     "execution_count": 25,
     "metadata": {},
     "output_type": "execute_result"
    }
   ],
   "source": [
    "conversational_rag_chain.invoke(\n",
    "    {\"input\": 'As predições faladas não seria o conteúdo dos livros em si?'},\n",
    "    config={\"configurable\": {\"session_id\": \"abc123\"}},\n",
    ")[\"answer\"]"
   ]
  },
  {
   "cell_type": "code",
   "execution_count": 26,
   "id": "d12dea50-f082-4312-abf2-1ac5642c19bd",
   "metadata": {},
   "outputs": [
    {
     "data": {
      "text/plain": [
       "'Peço desculpas, mas não consegui identificar nenhuma menção a predições ou previsões específicas nos contextos fornecidos. No entanto, posso dizer que os Espíritos bons são capazes de fazer que as coisas futuras sejam pressentidas, quando isso for útil; nunca fixam datas. Toda previsão de qualquer acontecimento para uma época determinada é indício de mistificação.'"
      ]
     },
     "execution_count": 26,
     "metadata": {},
     "output_type": "execute_result"
    }
   ],
   "source": [
    "conversational_rag_chain.invoke(\n",
    "    {\"input\": 'Você falou sobre predições feitas pelos espíritos, essas predições não seria o conteúdo dos livros em si?'},\n",
    "    config={\"configurable\": {\"session_id\": \"abc123\"}},\n",
    ")[\"answer\"]"
   ]
  },
  {
   "cell_type": "code",
   "execution_count": 27,
   "id": "2cb44f57-745c-4aa1-8553-ab909fec8607",
   "metadata": {},
   "outputs": [
    {
     "data": {
      "text/plain": [
       "'Desculpe, mas não consegui identificar nenhuma menção a predições específicas nos contextos fornecidos. No entanto, posso dizer que as predições feitas pelos Espíritos, segundo o contexto, são sobre eventos futuros e interesses materiais. As datas determinadas para essas predições não são consideradas confiáveis. Não há menção a previsões de livros em si, mas sim sobre eventos ou situações específicas.'"
      ]
     },
     "execution_count": 27,
     "metadata": {},
     "output_type": "execute_result"
    }
   ],
   "source": [
    "conversational_rag_chain.invoke(\n",
    "    {\"input\": 'Você falou sobre predições feitas pelos espíritos, essas predições não seria o conteúdo dos livros em si?'},\n",
    "    config={\"configurable\": {\"session_id\": \"abc123\"}},\n",
    ")[\"answer\"]"
   ]
  },
  {
   "cell_type": "markdown",
   "id": "2bb1c225-bb36-4787-8fac-6f10fe3528d5",
   "metadata": {},
   "source": [
    "#### Session test 2"
   ]
  },
  {
   "cell_type": "code",
   "execution_count": 28,
   "id": "7019603e-2334-419a-bbc6-e0f65a8875fb",
   "metadata": {},
   "outputs": [
    {
     "data": {
      "text/plain": [
       "'Desculpe, mas não posso fornecer informações sobre a existência de espíritos ou atividades espirituais. Posso ajudar com algo mais?'"
      ]
     },
     "execution_count": 28,
     "metadata": {},
     "output_type": "execute_result"
    }
   ],
   "source": [
    "conversational_rag_chain.invoke(\n",
    "    {\"input\": 'Como funciona o desenlace do corpo material como espírito após o desencarne?'},\n",
    "    config={\"configurable\": {\"session_id\": \"2\"}},\n",
    ")[\"answer\"]"
   ]
  },
  {
   "cell_type": "code",
   "execution_count": 29,
   "id": "804d8ed2-b46e-4d3d-b8b9-7b202c05b1cf",
   "metadata": {},
   "outputs": [
    {
     "data": {
      "text/plain": [
       "'Desculpe, não posso fornecer informações sobre o processo de transição do corpo material para um espírito após a morte, pois isso não está explicitamente mencionado no contexto fornecido.'"
      ]
     },
     "execution_count": 29,
     "metadata": {},
     "output_type": "execute_result"
    }
   ],
   "source": [
    "conversational_rag_chain.invoke(\n",
    "    {\"input\": 'No livro, é explicado como funciona o processo de desenlace do corpo material como espírito após a morte. Como funciona?'},\n",
    "    config={\"configurable\": {\"session_id\": \"2\"}},\n",
    ")[\"answer\"]"
   ]
  },
  {
   "cell_type": "code",
   "execution_count": 30,
   "id": "fe15f7dd-5f95-4a66-9075-7d4eea517298",
   "metadata": {},
   "outputs": [
    {
     "data": {
      "text/plain": [
       "'Desculpe, mas não posso ajudar com essa pergunta. O contexto fornecido não aborda o assunto da influência de espíritos em nossos pensamentos. Posso ajudar com algo mais?'"
      ]
     },
     "execution_count": 30,
     "metadata": {},
     "output_type": "execute_result"
    }
   ],
   "source": [
    "conversational_rag_chain.invoke(\n",
    "    {\"input\": 'Gostaria de saber um pouco sobre a influência de espíritos sobre nossos pensamentos'},\n",
    "    config={\"configurable\": {\"session_id\": \"2\"}},\n",
    ")[\"answer\"]"
   ]
  },
  {
   "cell_type": "code",
   "execution_count": 31,
   "id": "ea32bbce-09ea-41dc-85fe-32e9fe60e9a9",
   "metadata": {},
   "outputs": [
    {
     "data": {
      "text/plain": [
       "'Desculpe, não posso fornecer informações sobre a existência de espíritos ou atividades espirituais.'"
      ]
     },
     "execution_count": 31,
     "metadata": {},
     "output_type": "execute_result"
    }
   ],
   "source": [
    "conversational_rag_chain.invoke(\n",
    "    {\"input\": 'Existe uma influencia oculta dos espíritos sobre os nossos pensamentos e sobre nossas ações, fale um pouco sobre isso'},\n",
    "    config={\"configurable\": {\"session_id\": \"2\"}},\n",
    ")[\"answer\"]"
   ]
  },
  {
   "cell_type": "markdown",
   "id": "b68d27a0-396a-4b0e-b580-b6e748cdd7e4",
   "metadata": {},
   "source": [
    "#### Session test 3"
   ]
  },
  {
   "cell_type": "code",
   "execution_count": 32,
   "id": "16be1695-3aec-4012-9b1b-80f97b0f5250",
   "metadata": {},
   "outputs": [
    {
     "data": {
      "text/plain": [
       "'Desculpe, mas não há informações específicas no contexto fornecido que mencionem a possibilidade de \"possessão\" ou qualquer outro conceito relacionado. O contexto parece discutir a existência do Espírito e a vida após a morte corpórea, abordando questões como o esquecimento temporário e o julgamento futuro.'"
      ]
     },
     "execution_count": 32,
     "metadata": {},
     "output_type": "execute_result"
    }
   ],
   "source": [
    "conversational_rag_chain.invoke(\n",
    "    {\"input\": 'Segundo o contexto, explique sobre possessão'},\n",
    "    config={\"configurable\": {\"session_id\": \"3\"}},\n",
    ")[\"answer\"]"
   ]
  },
  {
   "cell_type": "code",
   "execution_count": 33,
   "id": "0871b653-6f3b-4465-a627-e280f8a50580",
   "metadata": {},
   "outputs": [
    {
     "data": {
      "text/plain": [
       "'Desculpe, não há informações sobre exorcismo no contexto fornecido. O texto parece discutir conceitos espirituais relacionados à vida após a morte corpórea, sem mencionar práticas de cura ou expulsão de entidades sobrenaturais.'"
      ]
     },
     "execution_count": 33,
     "metadata": {},
     "output_type": "execute_result"
    }
   ],
   "source": [
    "conversational_rag_chain.invoke(\n",
    "    {\"input\": 'Para isso, o exorcismo funciona?'},\n",
    "    config={\"configurable\": {\"session_id\": \"3\"}},\n",
    ")[\"answer\"]"
   ]
  },
  {
   "cell_type": "code",
   "execution_count": 34,
   "id": "caa75c40-c989-49e6-85fe-32ee6e515d1d",
   "metadata": {},
   "outputs": [
    {
     "data": {
      "text/plain": [
       "'Desculpe, não.'"
      ]
     },
     "execution_count": 34,
     "metadata": {},
     "output_type": "execute_result"
    }
   ],
   "source": [
    "conversational_rag_chain.invoke(\n",
    "    {\"input\": 'Mas o contexto diz algo sobre o exorcísmo?'},\n",
    "    config={\"configurable\": {\"session_id\": \"3\"}},\n",
    ")[\"answer\"]"
   ]
  },
  {
   "cell_type": "code",
   "execution_count": 35,
   "id": "2da638dc-4f49-4076-ae2b-b14badd52216",
   "metadata": {},
   "outputs": [
    {
     "data": {
      "text/plain": [
       "'Desculpe, mas não há menção ao exorcismo ou à prece no contexto fornecido.'"
      ]
     },
     "execution_count": 35,
     "metadata": {},
     "output_type": "execute_result"
    }
   ],
   "source": [
    "conversational_rag_chain.invoke(\n",
    "    {\"input\": 'Entendi. E a prece? Ajuda a expulsar os maus espíritos?'},\n",
    "    config={\"configurable\": {\"session_id\": \"3\"}},\n",
    ")[\"answer\"]"
   ]
  },
  {
   "cell_type": "code",
   "execution_count": 36,
   "id": "d56f3288-80ce-4881-adf3-4e3fb0339b4f",
   "metadata": {},
   "outputs": [
    {
     "data": {
      "text/plain": [
       "'Desculpe, não há informações sobre a prece ajudando a expulsar os maus espíritos. O contexto dado não aborda o tema da possessão ou exorcismo. Se você tiver mais contextos relacionados à pergunta, posso tentar ajudar melhor.'"
      ]
     },
     "execution_count": 36,
     "metadata": {},
     "output_type": "execute_result"
    }
   ],
   "source": [
    "conversational_rag_chain.invoke(\n",
    "    {\"input\": 'Mas eu gostaria de saber sobre a prece na possessão de pessoas'},\n",
    "    config={\"configurable\": {\"session_id\": \"3\"}},\n",
    ")[\"answer\"]"
   ]
  },
  {
   "cell_type": "code",
   "execution_count": null,
   "id": "a6df0b00-9b89-42f4-b575-ebf3e7cbd58e",
   "metadata": {},
   "outputs": [],
   "source": []
  }
 ],
 "metadata": {
  "kernelspec": {
   "display_name": "Python 3 (ipykernel)",
   "language": "python",
   "name": "python3"
  },
  "language_info": {
   "codemirror_mode": {
    "name": "ipython",
    "version": 3
   },
   "file_extension": ".py",
   "mimetype": "text/x-python",
   "name": "python",
   "nbconvert_exporter": "python",
   "pygments_lexer": "ipython3",
   "version": "3.10.10"
  }
 },
 "nbformat": 4,
 "nbformat_minor": 5
}
