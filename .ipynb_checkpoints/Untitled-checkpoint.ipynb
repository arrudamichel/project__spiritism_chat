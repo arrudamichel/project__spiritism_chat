{
 "cells": [
  {
   "cell_type": "code",
   "execution_count": null,
   "id": "ca73c261-82a9-42f5-ac2d-44628e51b926",
   "metadata": {},
   "outputs": [],
   "source": []
  },
  {
   "cell_type": "code",
   "execution_count": 1,
   "id": "5f0b80b8-f674-47ba-87eb-14125b4d5fc9",
   "metadata": {},
   "outputs": [],
   "source": [
    "from langchain_community.document_loaders import WebBaseLoader\n",
    "import bs4\n",
    "import ebooklib\n",
    "from bs4 import BeautifulSoup\n",
    "import re\n",
    "from ebooklib import epub\n",
    "\n",
    "\n",
    "import langchain\n",
    "from langchain import hub\n",
    "from langchain_community.document_loaders import WebBaseLoader\n",
    "from langchain_chroma import Chroma\n",
    "from langchain_core.output_parsers import StrOutputParser\n",
    "from langchain_core.runnables import RunnablePassthrough\n",
    "from langchain_text_splitters import RecursiveCharacterTextSplitter\n",
    "\n",
    "from langchain_community.llms import Ollama\n",
    "from langchain.embeddings.huggingface import HuggingFaceEmbeddings\n",
    "\n",
    "from langchain.schema import Document\n"
   ]
  },
  {
   "cell_type": "code",
   "execution_count": null,
   "id": "841ebe8e-8448-486b-9ef3-36a61bbf1246",
   "metadata": {},
   "outputs": [],
   "source": [
    "file_name = 'data/o_que_e_espiritismo.epub'"
   ]
  },
  {
   "cell_type": "code",
   "execution_count": null,
   "id": "4509f032-5aa0-4b46-8c4c-4101b266837b",
   "metadata": {},
   "outputs": [],
   "source": []
  },
  {
   "cell_type": "code",
   "execution_count": null,
   "id": "0264b290-5491-4dd0-9480-12de89dbbe03",
   "metadata": {},
   "outputs": [],
   "source": []
  },
  {
   "cell_type": "code",
   "execution_count": null,
   "id": "e34ee2d7-338d-4ee2-bc47-9c0d95a23ad8",
   "metadata": {},
   "outputs": [],
   "source": [
    "def read_epub(file_path):\n",
    "    book = epub.read_epub(file_path)\n",
    "\n",
    "    text = ''\n",
    "\n",
    "    for item in book.get_items():\n",
    "        if item.get_type() == ebooklib.ITEM_DOCUMENT:\n",
    "            soup = BeautifulSoup(item.get_content(), 'html.parser')\n",
    "            text += soup.get_text()\n",
    "    return text\n",
    "\n",
    "import os \n",
    "\n",
    "mypath = 'data'\n",
    "\n",
    "epub_files = [file for file in os.listdir(mypath) if file.endswith('.epub')]\n",
    "\n",
    "html_epub = read_epub(file_name)"
   ]
  },
  {
   "cell_type": "code",
   "execution_count": null,
   "id": "ab665014-789c-4705-869f-37c3cc8f2cfe",
   "metadata": {},
   "outputs": [],
   "source": [
    "def create_langchain_docs(text):\n",
    "    # Split the text into paragraphs\n",
    "    paragraphs = re.split(r'\\n\\n+', text)\n",
    "    \n",
    "    # Create LangChain document format\n",
    "    documents = []\n",
    "    for i, paragraph in enumerate(paragraphs):\n",
    "        # Each document can have text and optional metadata\n",
    "        doc = {\n",
    "            \"page_content\": paragraph,\n",
    "            \"metadata\": {\n",
    "                \"source\": \"epub_book\",\n",
    "                \"paragraph_index\": i\n",
    "            }\n",
    "        }\n",
    "        documents.append(doc)\n",
    "    \n",
    "    return documents"
   ]
  },
  {
   "cell_type": "code",
   "execution_count": null,
   "id": "c72cb217-f208-4865-9bde-92f09afb454d",
   "metadata": {},
   "outputs": [],
   "source": [
    "documents = create_langchain_docs(html_epub)\n",
    "\n",
    "# Print or use the documents\n",
    "for doc in documents:\n",
    "    print(doc)"
   ]
  },
  {
   "cell_type": "code",
   "execution_count": null,
   "id": "3944bfa7-51f7-4d70-bba0-77f79617e342",
   "metadata": {},
   "outputs": [],
   "source": [
    "import pypandoc\n",
    "pypandoc.download_pandoc()"
   ]
  },
  {
   "cell_type": "markdown",
   "id": "3afb93f6-7988-4b84-9f37-a753b8703b52",
   "metadata": {},
   "source": [
    "### Load LLM Model"
   ]
  },
  {
   "cell_type": "code",
   "execution_count": 2,
   "id": "4440dd69-849a-4c19-bdfc-3653138f113c",
   "metadata": {},
   "outputs": [],
   "source": [
    "llm = Ollama(model=\"llama3\")"
   ]
  },
  {
   "cell_type": "markdown",
   "id": "3755d5cc-13e5-4ed3-8e17-0bd3c01b4f45",
   "metadata": {},
   "source": [
    "### Epub loader"
   ]
  },
  {
   "cell_type": "code",
   "execution_count": 5,
   "id": "79eb6b4e-e62b-4776-b28d-67ef08bb920d",
   "metadata": {},
   "outputs": [
    {
     "data": {
      "text/plain": [
       "['allan-kardec-o-livro-dos-espiritos.epub',\n",
       " 'allan-kardec-o-evangelho-segundo-o-espiritismo.epub',\n",
       " 'allan-kardec-o-ceu-e-o-inferno.epub',\n",
       " 'allan-kardec-a-genese.epub',\n",
       " 'allan-kardec-o-que-e-espiritismo.epub',\n",
       " 'allan-kardec-o-livro-dos-mediuns.epub']"
      ]
     },
     "execution_count": 5,
     "metadata": {},
     "output_type": "execute_result"
    }
   ],
   "source": [
    "import os\n",
    "mypath = 'data'\n",
    "\n",
    "epub_files = [file for file in os.listdir(mypath) if file.endswith('.epub')]\n",
    "epub_files"
   ]
  },
  {
   "cell_type": "code",
   "execution_count": 9,
   "id": "c6a4ceb1-005b-407e-8eab-4133788d07bc",
   "metadata": {},
   "outputs": [
    {
     "name": "stdout",
     "output_type": "stream",
     "text": [
      "allan-kardec-o-livro-dos-espiritos.epub\n",
      "allan-kardec-o-evangelho-segundo-o-espiritismo.epub\n",
      "allan-kardec-o-ceu-e-o-inferno.epub\n",
      "allan-kardec-a-genese.epub\n",
      "allan-kardec-o-que-e-espiritismo.epub\n",
      "allan-kardec-o-livro-dos-mediuns.epub\n"
     ]
    }
   ],
   "source": [
    "from langchain_community.document_loaders import UnstructuredEPubLoader\n",
    "\n",
    "data = []\n",
    "for file_name in epub_files:\n",
    "    print(file_name)\n",
    "    loader = UnstructuredEPubLoader(\"data/\" + file_name)\n",
    "    data.append(loader.load())"
   ]
  },
  {
   "cell_type": "code",
   "execution_count": 32,
   "id": "3f58b60c-06a7-40ec-b90c-dd1574aa39e2",
   "metadata": {},
   "outputs": [],
   "source": [
    "list_concat = [item for sublist in data for item in sublist]\n"
   ]
  },
  {
   "cell_type": "markdown",
   "id": "046a7e65-c451-44c3-a204-f8f1be13153c",
   "metadata": {},
   "source": [
    "### Split documents"
   ]
  },
  {
   "cell_type": "code",
   "execution_count": 33,
   "id": "4dfa4aea-e04a-4884-8c89-9e2e391e086d",
   "metadata": {},
   "outputs": [],
   "source": [
    "text_splitter = RecursiveCharacterTextSplitter(chunk_size=1000, chunk_overlap=200)\n",
    "splits = text_splitter.split_documents(list_concat)"
   ]
  },
  {
   "cell_type": "code",
   "execution_count": 35,
   "id": "cf76481d-dea3-447b-99f8-c16138c376ba",
   "metadata": {},
   "outputs": [
    {
     "name": "stderr",
     "output_type": "stream",
     "text": [
      "/home/michel/miniconda3/envs/llm_spiritist/lib/python3.10/site-packages/huggingface_hub/file_download.py:1132: FutureWarning: `resume_download` is deprecated and will be removed in version 1.0.0. Downloads always resume when possible. If you want to force a new download, use `force_download=True`.\n",
      "  warnings.warn(\n"
     ]
    }
   ],
   "source": [
    "from langchain.prompts import PromptTemplate\n",
    "\n",
    "# vectors\n",
    "embeddings = HuggingFaceEmbeddings(\n",
    "    model_name=\"sentence-transformers/all-MiniLM-l6-v2\",     # Provide the pre-trained model's path\n",
    ")\n",
    "\n",
    "vectorstore = Chroma.from_documents(documents=splits, embedding=embeddings)\n",
    "\n",
    "# Retrieve and generate using the relevant snippets of the blog.\n",
    "retriever = vectorstore.as_retriever()\n",
    "#prompt = hub.pull(\"rlm/rag-prompt\")\n",
    "\n",
    "template = \"\"\"\n",
    "You must answer just using the given context.\n",
    "Context: {context}\n",
    "\n",
    "Question: {question}\n",
    "Answer:\n",
    "\"\"\"\n",
    "\n",
    "prompt = PromptTemplate(template=template, input_variables=[\"context\", \"question\"])\n",
    "\n",
    "def format_docs(docs):\n",
    "    return \"\\n\\n\".join(doc.page_content for doc in docs)\n",
    "\n",
    "\n",
    "rag_chain = (\n",
    "    {\"context\": retriever | format_docs, \"question\": RunnablePassthrough()}\n",
    "    | prompt\n",
    "    | llm\n",
    "    | StrOutputParser()\n",
    ")"
   ]
  },
  {
   "cell_type": "code",
   "execution_count": 36,
   "id": "0efc2d31-fafc-4c02-8cd6-63ad589df5d8",
   "metadata": {},
   "outputs": [
    {
     "data": {
      "text/plain": [
       "'A doutrina espírita ou o Espiritismo tem por princípio as relações do mundo material com os Espíritos ou seres do mundo invisível. Os adeptos do Espiritismo serão os espíritas, ou, se quiserem, os espiritistas.'"
      ]
     },
     "execution_count": 36,
     "metadata": {},
     "output_type": "execute_result"
    }
   ],
   "source": [
    "rag_chain.invoke(\"O que é o espiritismo?\")"
   ]
  },
  {
   "cell_type": "code",
   "execution_count": 37,
   "id": "a5341bf3-774d-44cb-852f-e0e71d446c18",
   "metadata": {},
   "outputs": [
    {
     "data": {
      "text/plain": [
       "'A pergunta não está presente no contexto dado! O que está escrito é uma descrição do Espiritismo e suas características, mas não há menção a um ano específico de criação do espiritismo. Portanto, não posso fornecer uma resposta para essa questão.'"
      ]
     },
     "execution_count": 37,
     "metadata": {},
     "output_type": "execute_result"
    }
   ],
   "source": [
    "rag_chain.invoke(\"Que ano foi criado o espiritismo?\")"
   ]
  },
  {
   "cell_type": "code",
   "execution_count": 38,
   "id": "2bf6f6d1-be9b-4a7d-8fcc-baa0d7699600",
   "metadata": {},
   "outputs": [
    {
     "data": {
      "text/plain": [
       "'Segundo o texto, imediatamente após a morte do corpo, as almas se encontram em tais ou quais condições, começando a descrever sua situação feliz ou desgraçada, impressões e transformação pela morte do corpo.'"
      ]
     },
     "execution_count": 38,
     "metadata": {},
     "output_type": "execute_result"
    }
   ],
   "source": [
    "rag_chain.invoke(\"Qual a situação da alma imediatamente depois da morte do corpo?\")"
   ]
  },
  {
   "cell_type": "code",
   "execution_count": 39,
   "id": "4e63667c-d568-403a-b122-67814e15eb6d",
   "metadata": {},
   "outputs": [
    {
     "data": {
      "text/plain": [
       "'A situação da alma imediatamente após a morte do corpo é que ela desmaterializa-se gradualmente, quase se completando antes da morte real. Já o Espírito penetra na vida espiritual, apenas ligado por um elo frágil que se rompe com a última pancada do coração. Nesta contingência, o Espírito pode ter já recuperado sua lucidez e tornar-se testemunha consciente da extinção da vida do corpo, considerando-se feliz por tê-lo deixado.'"
      ]
     },
     "execution_count": 39,
     "metadata": {},
     "output_type": "execute_result"
    }
   ],
   "source": [
    "rag_chain.invoke(\"Qual a situação da alma imediatamente depois da morte do corpo?\")"
   ]
  },
  {
   "cell_type": "code",
   "execution_count": 40,
   "id": "5ff42a1b-0e92-4626-8d3f-ddedbfef473a",
   "metadata": {},
   "outputs": [
    {
     "data": {
      "text/plain": [
       "'You must answer using only the given context, which is a text about Espiritismo (Spiritism). Therefore, I will not provide an answer to your question about Vasco da Gama.'"
      ]
     },
     "execution_count": 40,
     "metadata": {},
     "output_type": "execute_result"
    }
   ],
   "source": [
    "rag_chain.invoke(\"O que é Vasco da Gama?\")"
   ]
  }
 ],
 "metadata": {
  "kernelspec": {
   "display_name": "Python 3 (ipykernel)",
   "language": "python",
   "name": "python3"
  },
  "language_info": {
   "codemirror_mode": {
    "name": "ipython",
    "version": 3
   },
   "file_extension": ".py",
   "mimetype": "text/x-python",
   "name": "python",
   "nbconvert_exporter": "python",
   "pygments_lexer": "ipython3",
   "version": "3.10.14"
  }
 },
 "nbformat": 4,
 "nbformat_minor": 5
}
